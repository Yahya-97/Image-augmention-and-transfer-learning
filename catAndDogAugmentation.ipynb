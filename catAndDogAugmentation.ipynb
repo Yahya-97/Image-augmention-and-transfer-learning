{
 "cells": [
  {
   "cell_type": "code",
   "execution_count": 5,
   "id": "subject-england",
   "metadata": {},
   "outputs": [],
   "source": [
    "import os\n",
    "import zipfile\n",
    "import tensorflow as tf\n",
    "from tensorflow.keras.optimizers import RMSprop\n",
    "from tensorflow.keras.preprocessing.image import ImageDataGenerator\n",
    "\n",
    "local_zip = '/home/yahyaubuntu/Desktop/course2CatsAndDogs/cats_and_dogs_filtered.zip'\n",
    "zip_ref = zipfile.ZipFile(local_zip, 'r')\n",
    "zip_ref.extractall('/home/yahyaubuntu/Desktop/course2CatsAndDogs')\n",
    "zip_ref.close()\n",
    "\n",
    "base_dir = '/home/yahyaubuntu/Desktop/course2CatsAndDogs/cats_and_dogs_filtered'\n",
    "train_dir = os.path.join(base_dir, 'train')\n",
    "validation_dir = os.path.join(base_dir, 'validation')\n",
    "\n",
    "train_cats_dir = os.path.join(train_dir, 'cats')\n",
    "\n",
    "train_dogs_dir = os.path.join(train_dir, 'dogs')\n",
    "\n",
    "validation_cats_dir = os.path.join(validation_dir, 'cats')\n",
    "\n",
    "validation_dogs_dir = os.path.join(validation_dir, 'dogs')"
   ]
  },
  {
   "cell_type": "code",
   "execution_count": 7,
   "id": "dated-recipe",
   "metadata": {},
   "outputs": [],
   "source": [
    "model = tf.keras.models.Sequential([\n",
    "    \n",
    "    tf.keras.layers.Conv2D(32, (3,3), activation='relu', input_shape=(150, 150, 3)),\n",
    "    tf.keras.layers.MaxPooling2D(2,2),\n",
    "    tf.keras.layers.Conv2D(64,(3,3),activation='relu'),\n",
    "    tf.keras.layers.MaxPooling2D(2,2),\n",
    "    tf.keras.layers.Conv2D(128,(3,3),activation='relu'),\n",
    "    tf.keras.layers.MaxPooling2D(2,2),\n",
    "    tf.keras.layers.Conv2D(128,(3,3),activation='relu'),\n",
    "    tf.keras.layers.MaxPooling2D(2,2),\n",
    "    tf.keras.layers.Dropout(0.5),\n",
    "    tf.keras.layers.Flatten(),\n",
    "    tf.keras.layers.Dense(512,activation='relu'),\n",
    "    tf.keras.layers.Dense(1,activation='sigmoid')\n",
    "    \n",
    "])\n",
    "model.compile(loss='binary_crossentropy',\n",
    "             optimizer=RMSprop(lr=1e-4),\n",
    "             metrics=['accuracy'])\n"
   ]
  },
  {
   "cell_type": "code",
   "execution_count": 8,
   "id": "negative-carbon",
   "metadata": {},
   "outputs": [
    {
     "name": "stdout",
     "output_type": "stream",
     "text": [
      "Found 2000 images belonging to 2 classes.\n",
      "Found 1000 images belonging to 2 classes.\n"
     ]
    }
   ],
   "source": [
    "train_datagen = ImageDataGenerator(\n",
    "    rescale=1.0/255.0,\n",
    "    width_shift_range=0.2,\n",
    "    height_shift_range=0.2,\n",
    "    rotation_range=40,\n",
    "    shear_range=0.2,\n",
    "    horizontal_flip=True,\n",
    "    fill_mode='nearest')\n",
    "validation_datagen = ImageDataGenerator(rescale=1.0/255.0)\n",
    "\n",
    "train_generator = train_datagen.flow_from_directory(\n",
    "    train_dir,\n",
    "    target_size=(150,150),\n",
    "    batch_size=20,\n",
    "    class_mode='binary')\n",
    "\n",
    "validation_generator = validation_datagen.flow_from_directory(\n",
    "    validation_dir,\n",
    "    target_size=(150,150),\n",
    "    batch_size=20,\n",
    "    class_mode='binary')\n"
   ]
  },
  {
   "cell_type": "code",
   "execution_count": 9,
   "id": "conditional-blogger",
   "metadata": {},
   "outputs": [
    {
     "name": "stdout",
     "output_type": "stream",
     "text": [
      "Epoch 1/30\n",
      "100/100 [==============================] - 85s 841ms/step - loss: 0.6974 - accuracy: 0.4960 - val_loss: 0.6822 - val_accuracy: 0.5200\n",
      "Epoch 2/30\n",
      "100/100 [==============================] - 76s 755ms/step - loss: 0.6851 - accuracy: 0.5355 - val_loss: 0.6531 - val_accuracy: 0.6060\n",
      "Epoch 3/30\n",
      "100/100 [==============================] - 77s 769ms/step - loss: 0.6653 - accuracy: 0.5859 - val_loss: 0.6495 - val_accuracy: 0.5900\n",
      "Epoch 4/30\n",
      "100/100 [==============================] - 76s 755ms/step - loss: 0.6447 - accuracy: 0.6316 - val_loss: 0.6507 - val_accuracy: 0.5780\n",
      "Epoch 5/30\n",
      "100/100 [==============================] - 75s 747ms/step - loss: 0.6455 - accuracy: 0.6250 - val_loss: 0.5978 - val_accuracy: 0.6820\n",
      "Epoch 6/30\n",
      "100/100 [==============================] - 76s 755ms/step - loss: 0.6288 - accuracy: 0.6393 - val_loss: 0.5910 - val_accuracy: 0.6770\n",
      "Epoch 7/30\n",
      "100/100 [==============================] - 76s 759ms/step - loss: 0.6234 - accuracy: 0.6356 - val_loss: 0.5864 - val_accuracy: 0.6830\n",
      "Epoch 8/30\n",
      "100/100 [==============================] - 75s 752ms/step - loss: 0.6081 - accuracy: 0.6677 - val_loss: 0.5829 - val_accuracy: 0.6920\n",
      "Epoch 9/30\n",
      "100/100 [==============================] - 76s 757ms/step - loss: 0.6072 - accuracy: 0.6512 - val_loss: 0.5725 - val_accuracy: 0.6860\n",
      "Epoch 10/30\n",
      "100/100 [==============================] - 75s 746ms/step - loss: 0.6058 - accuracy: 0.6741 - val_loss: 0.5634 - val_accuracy: 0.7040\n",
      "Epoch 11/30\n",
      "100/100 [==============================] - 76s 759ms/step - loss: 0.5900 - accuracy: 0.6738 - val_loss: 0.5548 - val_accuracy: 0.7000\n",
      "Epoch 12/30\n",
      "100/100 [==============================] - 76s 757ms/step - loss: 0.5553 - accuracy: 0.7215 - val_loss: 0.5445 - val_accuracy: 0.7340\n",
      "Epoch 13/30\n",
      "100/100 [==============================] - 75s 751ms/step - loss: 0.5636 - accuracy: 0.7081 - val_loss: 0.5357 - val_accuracy: 0.7280\n",
      "Epoch 14/30\n",
      "100/100 [==============================] - 76s 758ms/step - loss: 0.5525 - accuracy: 0.7215 - val_loss: 0.5320 - val_accuracy: 0.7290\n",
      "Epoch 15/30\n",
      "100/100 [==============================] - 76s 755ms/step - loss: 0.5661 - accuracy: 0.6995 - val_loss: 0.5350 - val_accuracy: 0.7320\n",
      "Epoch 16/30\n",
      "100/100 [==============================] - 75s 754ms/step - loss: 0.5568 - accuracy: 0.7115 - val_loss: 0.5147 - val_accuracy: 0.7420\n",
      "Epoch 17/30\n",
      "100/100 [==============================] - 76s 763ms/step - loss: 0.5429 - accuracy: 0.7221 - val_loss: 0.5204 - val_accuracy: 0.7350\n",
      "Epoch 18/30\n",
      "100/100 [==============================] - 75s 752ms/step - loss: 0.5710 - accuracy: 0.6970 - val_loss: 0.5244 - val_accuracy: 0.7320\n",
      "Epoch 19/30\n",
      "100/100 [==============================] - 76s 760ms/step - loss: 0.5518 - accuracy: 0.7178 - val_loss: 0.5084 - val_accuracy: 0.7410\n",
      "Epoch 20/30\n",
      "100/100 [==============================] - 76s 758ms/step - loss: 0.5490 - accuracy: 0.7114 - val_loss: 0.5075 - val_accuracy: 0.7420\n",
      "Epoch 21/30\n",
      "100/100 [==============================] - 75s 751ms/step - loss: 0.5327 - accuracy: 0.7383 - val_loss: 0.6975 - val_accuracy: 0.6530\n",
      "Epoch 22/30\n",
      "100/100 [==============================] - 75s 754ms/step - loss: 0.5236 - accuracy: 0.7463 - val_loss: 0.5160 - val_accuracy: 0.7360\n",
      "Epoch 23/30\n",
      "100/100 [==============================] - 76s 759ms/step - loss: 0.5317 - accuracy: 0.7250 - val_loss: 0.5074 - val_accuracy: 0.7470\n",
      "Epoch 24/30\n",
      "100/100 [==============================] - 75s 751ms/step - loss: 0.5202 - accuracy: 0.7391 - val_loss: 0.5311 - val_accuracy: 0.7280\n",
      "Epoch 25/30\n",
      "100/100 [==============================] - 76s 757ms/step - loss: 0.4926 - accuracy: 0.7661 - val_loss: 0.5147 - val_accuracy: 0.7160\n",
      "Epoch 26/30\n",
      "100/100 [==============================] - 76s 755ms/step - loss: 0.5180 - accuracy: 0.7517 - val_loss: 0.4942 - val_accuracy: 0.7460\n",
      "Epoch 27/30\n",
      "100/100 [==============================] - 76s 754ms/step - loss: 0.5354 - accuracy: 0.7248 - val_loss: 0.4970 - val_accuracy: 0.7390\n",
      "Epoch 28/30\n",
      "100/100 [==============================] - 76s 755ms/step - loss: 0.5227 - accuracy: 0.7215 - val_loss: 0.4848 - val_accuracy: 0.7510\n",
      "Epoch 29/30\n",
      "100/100 [==============================] - 239s 2s/step - loss: 0.5234 - accuracy: 0.7381 - val_loss: 0.5037 - val_accuracy: 0.7320\n",
      "Epoch 30/30\n",
      "100/100 [==============================] - 77s 767ms/step - loss: 0.4882 - accuracy: 0.7644 - val_loss: 0.4854 - val_accuracy: 0.7550\n"
     ]
    }
   ],
   "source": [
    "history = model.fit(\n",
    "    train_generator,\n",
    "    steps_per_epoch=100,\n",
    "    epochs=30,\n",
    "    validation_data=validation_generator,\n",
    "    validation_steps=50,\n",
    "    verbose=1)"
   ]
  },
  {
   "cell_type": "code",
   "execution_count": 32,
   "id": "eligible-blend",
   "metadata": {},
   "outputs": [
    {
     "data": {
      "image/png": "[encoded data removed]",
      "text/plain": [
       "<Figure size 432x288 with 1 Axes>"
      ]
     },
     "metadata": {
      "needs_background": "light"
     },
     "output_type": "display_data"
    },
    {
     "data": {
      "image/png": "[encoded data removed]",
      "text/plain": [
       "<Figure size 432x288 with 1 Axes>"
      ]
     },
     "metadata": {
      "needs_background": "light"
     },
     "output_type": "display_data"
    }
   ],
   "source": [
    "import matplotlib.pyplot as plt\n",
    "acc = history.history['accuracy']\n",
    "val_acc = history.history['val_accuracy']\n",
    "loss = history.history['loss']\n",
    "val_loss = history.history['val_loss']\n",
    "\n",
    "epochs = range(len(acc))\n",
    "\n",
    "plt.plot(epochs, acc, 'bo', label='Training accuracy')\n",
    "plt.plot(epochs, val_acc, 'r', label='Validation accuracy')\n",
    "plt.title('Training and validation accuracy')\n",
    "\n",
    "plt.figure()\n",
    "\n",
    "plt.plot(epochs, loss, 'bo', label='Training Loss')\n",
    "plt.plot(epochs, val_loss, 'r', label='Validation Loss')\n",
    "plt.title('Training and validation loss')\n",
    "plt.legend()\n",
    "\n",
    "plt.show()"
   ]
  },
  {
   "cell_type": "code",
   "execution_count": 41,
   "id": "secret-depth",
   "metadata": {},
   "outputs": [
    {
     "name": "stdout",
     "output_type": "stream",
     "text": [
      "[1.]\n",
      " is a cat\n"
     ]
    }
   ],
   "source": [
    "from tensorflow.keras.preprocessing import image\n",
    "import numpy as np\n",
    "path = '/home/yahyaubuntu/Desktop/course2CatsAndDogs/cats_and_dogs_filtered/train/dogs/dog.102.jpg'\n",
    "img = image.load_img(path, target_size=(150, 150))\n",
    "x = image.img_to_array(img)\n",
    "x = np.expand_dims(x, axis=0)\n",
    "\n",
    "images = np.vstack([x])\n",
    "classes = model.predict(images, batch_size=10)\n",
    "print(classes[0])\n",
    "if classes[0]>0.5:\n",
    "    print(  \" is a cat\")\n",
    "else:\n",
    "    print(  \" is a dog\") "
   ]
  },
  {
   "cell_type": "code",
   "execution_count": null,
   "id": "advance-contest",
   "metadata": {},
   "outputs": [],
   "source": []
  },
  {
   "cell_type": "code",
   "execution_count": null,
   "id": "unnecessary-filename",
   "metadata": {},
   "outputs": [],
   "source": []
  }
 ],
 "metadata": {
  "kernelspec": {
   "display_name": "Python 3",
   "language": "python",
   "name": "python3"
  },
  "language_info": {
   "codemirror_mode": {
    "name": "ipython",
    "version": 3
   },
   "file_extension": ".py",
   "mimetype": "text/x-python",
   "name": "python",
   "nbconvert_exporter": "python",
   "pygments_lexer": "ipython3",
   "version": "3.7.10"
  }
 },
 "nbformat": 4,
 "nbformat_minor": 5
}
