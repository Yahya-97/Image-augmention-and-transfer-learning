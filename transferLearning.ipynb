{
 "cells": [
  {
   "cell_type": "code",
   "execution_count": 4,
   "id": "representative-rally",
   "metadata": {},
   "outputs": [
    {
     "name": "stdout",
     "output_type": "stream",
     "text": [
      "last layer output shape:  (None, 7, 7, 768)\n"
     ]
    }
   ],
   "source": [
    "import os\n",
    "from tensorflow.keras import layers\n",
    "from tensorflow.keras import Model\n",
    "from tensorflow.keras.applications.inception_v3 import InceptionV3\n",
    "\n",
    "local_weights_file = '/home/yahyaubuntu/inception_v3_weights_tf_dim_ordering_tf_kernels_notop.h5'\n",
    "\n",
    "pre_trained_model = InceptionV3(input_shape = (150, 150, 3), \n",
    "                                include_top = False, \n",
    "                                weights = None)\n",
    "\n",
    "pre_trained_model.load_weights(local_weights_file)\n",
    "\n",
    "for layer in pre_trained_model.layers:\n",
    "  layer.trainable = False\n",
    "  \n",
    "\n",
    "last_layer = pre_trained_model.get_layer('mixed7')\n",
    "print('last layer output shape: ', last_layer.output_shape)\n",
    "last_output = last_layer.output"
   ]
  },
  {
   "cell_type": "code",
   "execution_count": 7,
   "id": "resistant-stamp",
   "metadata": {},
   "outputs": [],
   "source": [
    "from tensorflow.keras.optimizers import RMSprop\n",
    "\n",
    "x = layers.Flatten()(last_output)\n",
    "x = layers.Dense(1024,activation = 'relu')(x)\n",
    "x = layers.Dropout(0.2)(x)\n",
    "x = layers.Dense(1,activation = 'sigmoid')(x)\n",
    "\n",
    "model = Model(pre_trained_model.input,x)\n",
    "\n",
    "model.compile(optimizer = RMSprop(lr=0.0001),\n",
    "             loss = 'binary_crossentropy',\n",
    "              metrics=['accuracy'])\n",
    "\n",
    "                "
   ]
  },
  {
   "cell_type": "code",
   "execution_count": 8,
   "id": "enabling-narrative",
   "metadata": {},
   "outputs": [],
   "source": [
    "base_dir = '/home/yahyaubuntu/Desktop/course2CatsAndDogs/cats_and_dogs_filtered/'\n",
    "\n",
    "train_dir = os.path.join(base_dir,'train')\n",
    "validation_dir = os.path.join(base_dir,'validation')\n",
    "\n",
    "train_cats_dir = os.path.join(train_dir,'cats')\n",
    "train_dogs_dir = os.path.join(train_dir,'dogs')\n",
    "\n",
    "validation_cats_dir = os.path.join(validation_dir, 'cats')\n",
    "validation_dogs_dir = os.path.join(validation_dir, 'dogs')"
   ]
  },
  {
   "cell_type": "code",
   "execution_count": 9,
   "id": "informative-wealth",
   "metadata": {},
   "outputs": [
    {
     "name": "stdout",
     "output_type": "stream",
     "text": [
      "total images train cats  1000\n",
      "total images train dogs  1000\n",
      "total validation cat images : 500\n",
      "total validation dog images : 500\n"
     ]
    }
   ],
   "source": [
    "print('total images train cats ' , len(os.listdir(train_cats_dir)))\n",
    "print('total images train dogs ' , len(os.listdir(train_dogs_dir)))\n",
    "\n",
    "print('total validation cat images :', len(os.listdir( validation_cats_dir ) ))\n",
    "print('total validation dog images :', len(os.listdir( validation_dogs_dir ) ))"
   ]
  },
  {
   "cell_type": "code",
   "execution_count": 10,
   "id": "finished-worcester",
   "metadata": {},
   "outputs": [
    {
     "name": "stdout",
     "output_type": "stream",
     "text": [
      "Found 2000 images belonging to 2 classes.\n",
      "Found 1000 images belonging to 2 classes.\n"
     ]
    }
   ],
   "source": [
    "from tensorflow.keras.preprocessing.image import ImageDataGenerator\n",
    "\n",
    "train_datagen = ImageDataGenerator(rescale = 1./255.,\n",
    "                                   rotation_range = 40,\n",
    "                                   width_shift_range = 0.2,\n",
    "                                   height_shift_range = 0.2,\n",
    "                                   shear_range = 0.2,\n",
    "                                   zoom_range = 0.2,\n",
    "                                   horizontal_flip = True)\n",
    "\n",
    "test_datagen = ImageDataGenerator( rescale = 1.0/255. )\n",
    "\n",
    "train_generator = train_datagen.flow_from_directory(train_dir,\n",
    "                                                    batch_size = 20,\n",
    "                                                    class_mode = 'binary', \n",
    "                                                    target_size = (150, 150))     \n",
    "\n",
    "validation_generator =  test_datagen.flow_from_directory( validation_dir,\n",
    "                                                          batch_size  = 20,\n",
    "                                                          class_mode  = 'binary', \n",
    "                                                          target_size = (150, 150))"
   ]
  },
  {
   "cell_type": "code",
   "execution_count": 11,
   "id": "subjective-baseline",
   "metadata": {},
   "outputs": [
    {
     "name": "stdout",
     "output_type": "stream",
     "text": [
      "Epoch 1/20\n",
      "100/100 - 114s - loss: 0.3340 - accuracy: 0.8620 - val_loss: 0.2526 - val_accuracy: 0.9000\n",
      "Epoch 2/20\n",
      "100/100 - 108s - loss: 0.2123 - accuracy: 0.9130 - val_loss: 0.1108 - val_accuracy: 0.9600\n",
      "Epoch 3/20\n",
      "100/100 - 109s - loss: 0.2106 - accuracy: 0.9255 - val_loss: 0.1193 - val_accuracy: 0.9580\n",
      "Epoch 4/20\n",
      "100/100 - 109s - loss: 0.1705 - accuracy: 0.9335 - val_loss: 0.1761 - val_accuracy: 0.9480\n",
      "Epoch 5/20\n",
      "100/100 - 109s - loss: 0.1904 - accuracy: 0.9405 - val_loss: 0.1123 - val_accuracy: 0.9640\n",
      "Epoch 6/20\n",
      "100/100 - 108s - loss: 0.1729 - accuracy: 0.9400 - val_loss: 0.1148 - val_accuracy: 0.9630\n",
      "Epoch 7/20\n",
      "100/100 - 109s - loss: 0.1953 - accuracy: 0.9365 - val_loss: 0.1327 - val_accuracy: 0.9590\n",
      "Epoch 8/20\n",
      "100/100 - 108s - loss: 0.1673 - accuracy: 0.9430 - val_loss: 0.1028 - val_accuracy: 0.9610\n",
      "Epoch 9/20\n",
      "100/100 - 108s - loss: 0.1497 - accuracy: 0.9515 - val_loss: 0.1120 - val_accuracy: 0.9670\n",
      "Epoch 10/20\n",
      "100/100 - 108s - loss: 0.1701 - accuracy: 0.9470 - val_loss: 0.0909 - val_accuracy: 0.9660\n",
      "Epoch 11/20\n",
      "100/100 - 108s - loss: 0.1549 - accuracy: 0.9505 - val_loss: 0.1382 - val_accuracy: 0.9640\n",
      "Epoch 12/20\n",
      "100/100 - 108s - loss: 0.1525 - accuracy: 0.9460 - val_loss: 0.1246 - val_accuracy: 0.9670\n",
      "Epoch 13/20\n",
      "100/100 - 108s - loss: 0.1576 - accuracy: 0.9480 - val_loss: 0.1191 - val_accuracy: 0.9660\n",
      "Epoch 14/20\n",
      "100/100 - 108s - loss: 0.1596 - accuracy: 0.9500 - val_loss: 0.1187 - val_accuracy: 0.9660\n",
      "Epoch 15/20\n",
      "100/100 - 108s - loss: 0.1445 - accuracy: 0.9535 - val_loss: 0.1576 - val_accuracy: 0.9540\n",
      "Epoch 16/20\n",
      "100/100 - 109s - loss: 0.1539 - accuracy: 0.9480 - val_loss: 0.1119 - val_accuracy: 0.9600\n",
      "Epoch 17/20\n",
      "100/100 - 108s - loss: 0.1276 - accuracy: 0.9535 - val_loss: 0.1327 - val_accuracy: 0.9620\n",
      "Epoch 18/20\n",
      "100/100 - 108s - loss: 0.1177 - accuracy: 0.9625 - val_loss: 0.1406 - val_accuracy: 0.9650\n",
      "Epoch 19/20\n",
      "100/100 - 108s - loss: 0.1579 - accuracy: 0.9450 - val_loss: 0.1457 - val_accuracy: 0.9590\n",
      "Epoch 20/20\n",
      "100/100 - 108s - loss: 0.1416 - accuracy: 0.9510 - val_loss: 0.1719 - val_accuracy: 0.9570\n"
     ]
    }
   ],
   "source": [
    "history = model.fit(\n",
    "            train_generator,\n",
    "            validation_data = validation_generator,\n",
    "            steps_per_epoch = 100,\n",
    "            epochs = 20,\n",
    "            validation_steps = 50,\n",
    "            verbose = 2)"
   ]
  },
  {
   "cell_type": "code",
   "execution_count": 18,
   "id": "legitimate-virtue",
   "metadata": {},
   "outputs": [
    {
     "name": "stdout",
     "output_type": "stream",
     "text": [
      "[0.]\n",
      "0 is a cat\n",
      "[0.]\n",
      "1 is a cat\n",
      "[1.]\n",
      "2 is a dog\n",
      "[1.]\n",
      "3 is a dog\n",
      "[1.8594726e-37]\n",
      "4 is a cat\n",
      "[0.]\n",
      "5 is a cat\n",
      "[1.]\n",
      "6 is a dog\n",
      "[1.]\n",
      "7 is a dog\n",
      "[0.]\n",
      "8 is a cat\n",
      "[0.9921031]\n",
      "9 is a dog\n"
     ]
    }
   ],
   "source": [
    "import numpy as np\n",
    "\n",
    "from tensorflow.keras.preprocessing import image\n",
    "\n",
    "for i in range(10):\n",
    "  # predicting images\n",
    "  path = '/home/yahyaubuntu/Desktop/course2CatsAndDogs/cats_and_dogs_filtered/validation/cats/cat.200'+str(i)+'.jpg'\n",
    "  img = image.load_img(path, target_size=(150, 150))\n",
    "  x = image.img_to_array(img)\n",
    "  x = np.expand_dims(x, axis=0)\n",
    "\n",
    "  images = np.vstack([x])\n",
    "  classes = model.predict(images, batch_size=10)\n",
    "  print(classes[0])\n",
    "  if classes[0]>0.5:\n",
    "    print(str(i) + \" is a dog\")\n",
    "  else:\n",
    "    print(str(i) + \" is a cat\")"
   ]
  },
  {
   "cell_type": "code",
   "execution_count": 12,
   "id": "general-little",
   "metadata": {},
   "outputs": [
    {
     "data": {
      "image/png": "[encoded data removed]",
      "text/plain": [
       "<Figure size 432x288 with 1 Axes>"
      ]
     },
     "metadata": {
      "needs_background": "light"
     },
     "output_type": "display_data"
    },
    {
     "data": {
      "text/plain": [
       "<Figure size 432x288 with 0 Axes>"
      ]
     },
     "metadata": {},
     "output_type": "display_data"
    }
   ],
   "source": [
    "import matplotlib.pyplot as plt\n",
    "acc = history.history['accuracy']\n",
    "val_acc = history.history['val_accuracy']\n",
    "loss = history.history['loss']\n",
    "val_loss = history.history['val_loss']\n",
    "\n",
    "epochs = range(len(acc))\n",
    "\n",
    "plt.plot(epochs, acc, 'r', label='Training accuracy')\n",
    "plt.plot(epochs, val_acc, 'b', label='Validation accuracy')\n",
    "plt.title('Training and validation accuracy')\n",
    "plt.legend(loc=0)\n",
    "plt.figure()\n",
    "\n",
    "\n",
    "plt.show()"
   ]
  },
  {
   "cell_type": "code",
   "execution_count": null,
   "id": "domestic-italic",
   "metadata": {},
   "outputs": [],
   "source": []
  }
 ],
 "metadata": {
  "kernelspec": {
   "display_name": "Python 3",
   "language": "python",
   "name": "python3"
  },
  "language_info": {
   "codemirror_mode": {
    "name": "ipython",
    "version": 3
   },
   "file_extension": ".py",
   "mimetype": "text/x-python",
   "name": "python",
   "nbconvert_exporter": "python",
   "pygments_lexer": "ipython3",
   "version": "3.7.10"
  }
 },
 "nbformat": 4,
 "nbformat_minor": 5
}
